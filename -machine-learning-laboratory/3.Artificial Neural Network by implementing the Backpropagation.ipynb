{
 "cells": [
  {
   "cell_type": "markdown",
   "id": "19bb2bfa",
   "metadata": {},
   "source": [
    "# 3.Build an Artificial Neural Network by implementing the Backpropagation algorithm and test the same using appropriate data sets."
   ]
  },
  {
   "cell_type": "code",
   "execution_count": 8,
   "id": "83c5c1ff",
   "metadata": {},
   "outputs": [],
   "source": [
    "import numpy as np \n",
    "X = np.array(([2, 9], [1, 5], [3, 6]), dtype=float)\n",
    "y = np.array(([92], [86], [89]), dtype=float)\n",
    "X = X/np.amax(X,axis=0) \n",
    "y = y/100"
   ]
  },
  {
   "cell_type": "code",
   "execution_count": 9,
   "id": "957c7973",
   "metadata": {},
   "outputs": [
    {
     "data": {
      "text/plain": [
       "array([[0.66666667, 1.        ],\n",
       "       [0.33333333, 0.55555556],\n",
       "       [1.        , 0.66666667]])"
      ]
     },
     "execution_count": 9,
     "metadata": {},
     "output_type": "execute_result"
    }
   ],
   "source": [
    "X"
   ]
  },
  {
   "cell_type": "code",
   "execution_count": 10,
   "id": "72501c57",
   "metadata": {},
   "outputs": [
    {
     "data": {
      "text/plain": [
       "array([[0.92],\n",
       "       [0.86],\n",
       "       [0.89]])"
      ]
     },
     "execution_count": 10,
     "metadata": {},
     "output_type": "execute_result"
    }
   ],
   "source": [
    "y"
   ]
  },
  {
   "cell_type": "code",
   "execution_count": 11,
   "id": "aca7b68e",
   "metadata": {},
   "outputs": [],
   "source": [
    "def sigmoid(x):\n",
    "    return 1/(1 + np.exp(-x))\n",
    "def sigmoid_grad(x):\n",
    "    return x * (1 - x)\n",
    "epoch=1000\n",
    "eta =0.2\n",
    "input_neurons = 2\n",
    "hidden_neurons = 3\n",
    "output_neurons = 1\n",
    "wh=np.random.uniform(size=(input_neurons,hidden_neurons))\t# 2x3 \n",
    "bh=np.random.uniform(size=(1,hidden_neurons))\t# 1x3 \n",
    "wout=np.random.uniform(size=(hidden_neurons,output_neurons)) # 1x1 \n",
    "bout=np.random.uniform(size=(1,output_neurons))"
   ]
  },
  {
   "cell_type": "code",
   "execution_count": 12,
   "id": "d5702937",
   "metadata": {},
   "outputs": [
    {
     "name": "stdout",
     "output_type": "stream",
     "text": [
      "Normalized Input: \n",
      "[[0.66666667 1.        ]\n",
      " [0.33333333 0.55555556]\n",
      " [1.         0.66666667]]\n",
      "Actual Output: \n",
      "[[0.92]\n",
      " [0.86]\n",
      " [0.89]]\n",
      "Predicted Output: \n",
      " [[0.89851777]\n",
      " [0.87420959]\n",
      " [0.89810879]]\n"
     ]
    }
   ],
   "source": [
    "for i in range(epoch):\n",
    "    h_ip=np.dot(X,wh) + bh \n",
    "    h_act = sigmoid(h_ip) \n",
    "    o_ip=np.dot(h_act,wout) + bout\n",
    "    output = sigmoid(o_ip)\n",
    "    \n",
    "    Eo = y-output \n",
    "    outgrad = sigmoid_grad(output)\n",
    "    d_output = Eo* outgrad\n",
    "    \n",
    "    Eh = d_output.dot(wout.T)\n",
    "    hiddengrad = sigmoid_grad(h_act) \n",
    "    d_hidden = Eh * hiddengrad\n",
    "    \n",
    "    wout += h_act.T.dot(d_output) *eta \n",
    "    wh += X.T.dot(d_output) *eta\n",
    "print(\"Normalized Input: \\n\" + str(X))\n",
    "print(\"Actual Output: \\n\" + str(y))\n",
    "print(\"Predicted Output: \\n\" ,output)"
   ]
  },
  {
   "cell_type": "code",
   "execution_count": null,
   "id": "c6854746",
   "metadata": {},
   "outputs": [],
   "source": []
  }
 ],
 "metadata": {
  "kernelspec": {
   "display_name": "Python 3 (ipykernel)",
   "language": "python",
   "name": "python3"
  },
  "language_info": {
   "codemirror_mode": {
    "name": "ipython",
    "version": 3
   },
   "file_extension": ".py",
   "mimetype": "text/x-python",
   "name": "python",
   "nbconvert_exporter": "python",
   "pygments_lexer": "ipython3",
   "version": "3.10.9"
  }
 },
 "nbformat": 4,
 "nbformat_minor": 5
}
