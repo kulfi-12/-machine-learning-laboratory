{
 "cells": [
  {
   "cell_type": "markdown",
   "id": "063f27fd",
   "metadata": {},
   "source": [
    "# 5.Implement naïve Bayesian Classifier model to classify a set of documents and measure the accuracy, precision, and recall."
   ]
  },
  {
   "cell_type": "code",
   "execution_count": 9,
   "id": "00969444",
   "metadata": {},
   "outputs": [
    {
     "name": "stdout",
     "output_type": "stream",
     "text": [
      "Total Instances of Dataset:  18\n"
     ]
    }
   ],
   "source": [
    "import pandas as pd\n",
    "msg = pd.read_csv('https://raw.githubusercontent.com/AbhishekMali21/VTU-CSE-LAB-SOLUTIONS/master/7th%20SEM/MACHINE%20LEARNING%20LABORATORY/6-Naive%20Bayesian%20Classifier(using%20API)/document.csv', names=['message', 'label'])\n",
    "print(\"Total Instances of Dataset: \", msg.shape[0])\n",
    "msg['labelnum'] = msg.label.map({'pos': 1, 'neg': 0})"
   ]
  },
  {
   "cell_type": "code",
   "execution_count": 10,
   "id": "4a2d209a",
   "metadata": {},
   "outputs": [],
   "source": [
    "X = msg.message\n",
    "y = msg.labelnum\n",
    "from sklearn.model_selection import train_test_split\n",
    "Xtrain, Xtest, ytrain, ytest = train_test_split(X, y)\n",
    "from sklearn.feature_extraction.text import CountVectorizer\n",
    "\n",
    "count_v = CountVectorizer()\n",
    "Xtrain_dm = count_v.fit_transform(Xtrain)\n",
    "Xtest_dm = count_v.transform(Xtest)"
   ]
  },
  {
   "cell_type": "code",
   "execution_count": 11,
   "id": "0703c276",
   "metadata": {},
   "outputs": [
    {
     "name": "stdout",
     "output_type": "stream",
     "text": [
      "   about  am  amazing  an  and  awesome  beers  best  boss  can  ...  this  \\\n",
      "0      0   0        0   0    0        0      0     0     0    1  ...     1   \n",
      "1      0   0        0   0    0        0      0     0     0    0  ...     0   \n",
      "2      0   0        0   1    0        1      0     0     0    0  ...     0   \n",
      "3      0   1        0   0    1        0      0     0     0    0  ...     1   \n",
      "4      0   0        1   1    0        0      0     0     0    0  ...     1   \n",
      "\n",
      "   tired  to  today  very  view  went  what  with  work  \n",
      "0      0   0      0     0     0     0     0     1     0  \n",
      "1      0   1      0     0     0     0     0     0     0  \n",
      "2      0   0      0     0     1     0     1     0     0  \n",
      "3      1   0      0     0     0     0     0     0     0  \n",
      "4      0   0      0     0     0     0     0     0     0  \n",
      "\n",
      "[5 rows x 44 columns]\n"
     ]
    }
   ],
   "source": [
    "df = pd.DataFrame(Xtrain_dm.toarray(),columns=count_v.get_feature_names_out())\n",
    "print(df[0:5])"
   ]
  },
  {
   "cell_type": "code",
   "execution_count": 12,
   "id": "1e5ec77e",
   "metadata": {},
   "outputs": [],
   "source": [
    "from sklearn.naive_bayes import MultinomialNB\n",
    "clf = MultinomialNB()\n",
    "clf.fit(Xtrain_dm, ytrain)\n",
    "pred = clf.predict(Xtest_dm)"
   ]
  },
  {
   "cell_type": "code",
   "execution_count": 13,
   "id": "07556c01",
   "metadata": {},
   "outputs": [
    {
     "name": "stdout",
     "output_type": "stream",
     "text": [
      "I can't deal with this -> pos\n",
      "I love to dance -> pos\n",
      "What an awesome view -> neg\n",
      "I am sick and tired of this place -> pos\n",
      "This is an amazing place -> pos\n"
     ]
    }
   ],
   "source": [
    "for doc, p in zip(Xtrain, pred):\n",
    "    p = 'pos' if p == 1 else 'neg'\n",
    "    print(\"%s -> %s\" % (doc, p))"
   ]
  },
  {
   "cell_type": "code",
   "execution_count": 14,
   "id": "c9fb70d2",
   "metadata": {},
   "outputs": [
    {
     "name": "stdout",
     "output_type": "stream",
     "text": [
      "Accuracy Metrics: \n",
      "\n",
      "Accuracy:  0.8\n",
      "Recall:  1.0\n",
      "Precision:  0.75\n",
      "Confusion Matrix: \n",
      " [[1 1]\n",
      " [0 3]]\n"
     ]
    }
   ],
   "source": [
    "from sklearn.metrics import accuracy_score, confusion_matrix, precision_score, recall_score\n",
    "print('Accuracy Metrics: \\n')\n",
    "print('Accuracy: ', accuracy_score(ytest, pred))\n",
    "print('Recall: ', recall_score(ytest, pred))\n",
    "print('Precision: ', precision_score(ytest, pred))\n",
    "print('Confusion Matrix: \\n', confusion_matrix(ytest, pred))"
   ]
  },
  {
   "cell_type": "code",
   "execution_count": null,
   "id": "de5c51fd",
   "metadata": {},
   "outputs": [],
   "source": []
  }
 ],
 "metadata": {
  "kernelspec": {
   "display_name": "Python 3 (ipykernel)",
   "language": "python",
   "name": "python3"
  },
  "language_info": {
   "codemirror_mode": {
    "name": "ipython",
    "version": 3
   },
   "file_extension": ".py",
   "mimetype": "text/x-python",
   "name": "python",
   "nbconvert_exporter": "python",
   "pygments_lexer": "ipython3",
   "version": "3.10.9"
  }
 },
 "nbformat": 4,
 "nbformat_minor": 5
}
